{
 "cells": [
  {
   "cell_type": "code",
   "execution_count": 1,
   "metadata": {},
   "outputs": [
    {
     "data": {
      "text/html": [
       "<div>\n",
       "<style scoped>\n",
       "    .dataframe tbody tr th:only-of-type {\n",
       "        vertical-align: middle;\n",
       "    }\n",
       "\n",
       "    .dataframe tbody tr th {\n",
       "        vertical-align: top;\n",
       "    }\n",
       "\n",
       "    .dataframe thead th {\n",
       "        text-align: right;\n",
       "    }\n",
       "</style>\n",
       "<table border=\"1\" class=\"dataframe\">\n",
       "  <thead>\n",
       "    <tr style=\"text-align: right;\">\n",
       "      <th></th>\n",
       "      <th>Name</th>\n",
       "      <th>BMI</th>\n",
       "      <th>Dojo</th>\n",
       "    </tr>\n",
       "  </thead>\n",
       "  <tbody>\n",
       "    <tr>\n",
       "      <td>0</td>\n",
       "      <td>tom</td>\n",
       "      <td>100</td>\n",
       "      <td>spades</td>\n",
       "    </tr>\n",
       "    <tr>\n",
       "      <td>1</td>\n",
       "      <td>dick</td>\n",
       "      <td>110</td>\n",
       "      <td>spades</td>\n",
       "    </tr>\n",
       "    <tr>\n",
       "      <td>2</td>\n",
       "      <td>aaron</td>\n",
       "      <td>140</td>\n",
       "      <td>clubs</td>\n",
       "    </tr>\n",
       "    <tr>\n",
       "      <td>3</td>\n",
       "      <td>harry</td>\n",
       "      <td>120</td>\n",
       "      <td>spades</td>\n",
       "    </tr>\n",
       "    <tr>\n",
       "      <td>4</td>\n",
       "      <td>jack</td>\n",
       "      <td>130</td>\n",
       "      <td>diamonds</td>\n",
       "    </tr>\n",
       "  </tbody>\n",
       "</table>\n",
       "</div>"
      ],
      "text/plain": [
       "    Name  BMI      Dojo\n",
       "0    tom  100    spades\n",
       "1   dick  110    spades\n",
       "2  aaron  140     clubs\n",
       "3  harry  120    spades\n",
       "4   jack  130  diamonds"
      ]
     },
     "execution_count": 1,
     "metadata": {},
     "output_type": "execute_result"
    }
   ],
   "source": [
    "import pandas as pd\n",
    "import numpy as np\n",
    "# Setup a simple dataframe\n",
    "data = [['tom',100,'spades'],\n",
    "        ['dick',110,'spades'],\n",
    "        ['aaron',140,'clubs'],\n",
    "        ['harry',120,'spades'],\n",
    "        ['jack',130,'diamonds']]\n",
    "#        ['jason',110,'spades']]\n",
    "\n",
    "df=pd.DataFrame(data, columns=['Name','BMI','Dojo'])\n",
    "df"
   ]
  },
  {
   "cell_type": "code",
   "execution_count": 2,
   "metadata": {},
   "outputs": [
    {
     "data": {
      "text/html": [
       "<div>\n",
       "<style scoped>\n",
       "    .dataframe tbody tr th:only-of-type {\n",
       "        vertical-align: middle;\n",
       "    }\n",
       "\n",
       "    .dataframe tbody tr th {\n",
       "        vertical-align: top;\n",
       "    }\n",
       "\n",
       "    .dataframe thead th {\n",
       "        text-align: right;\n",
       "    }\n",
       "</style>\n",
       "<table border=\"1\" class=\"dataframe\">\n",
       "  <thead>\n",
       "    <tr style=\"text-align: right;\">\n",
       "      <th></th>\n",
       "      <th>Name</th>\n",
       "      <th>BMI</th>\n",
       "      <th>Dojo</th>\n",
       "    </tr>\n",
       "  </thead>\n",
       "  <tbody>\n",
       "    <tr>\n",
       "      <td>0</td>\n",
       "      <td>tom</td>\n",
       "      <td>100</td>\n",
       "      <td>spades</td>\n",
       "    </tr>\n",
       "    <tr>\n",
       "      <td>1</td>\n",
       "      <td>dick</td>\n",
       "      <td>110</td>\n",
       "      <td>spades</td>\n",
       "    </tr>\n",
       "    <tr>\n",
       "      <td>3</td>\n",
       "      <td>harry</td>\n",
       "      <td>120</td>\n",
       "      <td>spades</td>\n",
       "    </tr>\n",
       "    <tr>\n",
       "      <td>4</td>\n",
       "      <td>jack</td>\n",
       "      <td>130</td>\n",
       "      <td>diamonds</td>\n",
       "    </tr>\n",
       "    <tr>\n",
       "      <td>2</td>\n",
       "      <td>aaron</td>\n",
       "      <td>140</td>\n",
       "      <td>clubs</td>\n",
       "    </tr>\n",
       "  </tbody>\n",
       "</table>\n",
       "</div>"
      ],
      "text/plain": [
       "    Name  BMI      Dojo\n",
       "0    tom  100    spades\n",
       "1   dick  110    spades\n",
       "3  harry  120    spades\n",
       "4   jack  130  diamonds\n",
       "2  aaron  140     clubs"
      ]
     },
     "execution_count": 2,
     "metadata": {},
     "output_type": "execute_result"
    }
   ],
   "source": [
    "df.sort_values(by=['BMI','Dojo'], inplace=True)\n",
    "df"
   ]
  },
  {
   "cell_type": "code",
   "execution_count": 3,
   "metadata": {},
   "outputs": [],
   "source": [
    "name1=df.iloc[0].Name\n",
    "dojo1=df.iloc[0].Dojo"
   ]
  },
  {
   "cell_type": "code",
   "execution_count": 4,
   "metadata": {},
   "outputs": [
    {
     "name": "stdout",
     "output_type": "stream",
     "text": [
      "tom spades\n"
     ]
    }
   ],
   "source": [
    "print(name1, dojo1)"
   ]
  },
  {
   "cell_type": "code",
   "execution_count": 5,
   "metadata": {},
   "outputs": [
    {
     "data": {
      "text/html": [
       "<div>\n",
       "<style scoped>\n",
       "    .dataframe tbody tr th:only-of-type {\n",
       "        vertical-align: middle;\n",
       "    }\n",
       "\n",
       "    .dataframe tbody tr th {\n",
       "        vertical-align: top;\n",
       "    }\n",
       "\n",
       "    .dataframe thead th {\n",
       "        text-align: right;\n",
       "    }\n",
       "</style>\n",
       "<table border=\"1\" class=\"dataframe\">\n",
       "  <thead>\n",
       "    <tr style=\"text-align: right;\">\n",
       "      <th></th>\n",
       "      <th>Name</th>\n",
       "      <th>BMI</th>\n",
       "      <th>Dojo</th>\n",
       "    </tr>\n",
       "  </thead>\n",
       "  <tbody>\n",
       "    <tr>\n",
       "      <td>0</td>\n",
       "      <td>tom</td>\n",
       "      <td>100</td>\n",
       "      <td>spades</td>\n",
       "    </tr>\n",
       "    <tr>\n",
       "      <td>1</td>\n",
       "      <td>dick</td>\n",
       "      <td>110</td>\n",
       "      <td>spades</td>\n",
       "    </tr>\n",
       "    <tr>\n",
       "      <td>3</td>\n",
       "      <td>harry</td>\n",
       "      <td>120</td>\n",
       "      <td>spades</td>\n",
       "    </tr>\n",
       "    <tr>\n",
       "      <td>4</td>\n",
       "      <td>jack</td>\n",
       "      <td>130</td>\n",
       "      <td>diamonds</td>\n",
       "    </tr>\n",
       "    <tr>\n",
       "      <td>2</td>\n",
       "      <td>aaron</td>\n",
       "      <td>140</td>\n",
       "      <td>clubs</td>\n",
       "    </tr>\n",
       "  </tbody>\n",
       "</table>\n",
       "</div>"
      ],
      "text/plain": [
       "    Name  BMI      Dojo\n",
       "0    tom  100    spades\n",
       "1   dick  110    spades\n",
       "3  harry  120    spades\n",
       "4   jack  130  diamonds\n",
       "2  aaron  140     clubs"
      ]
     },
     "execution_count": 5,
     "metadata": {},
     "output_type": "execute_result"
    }
   ],
   "source": [
    "df"
   ]
  },
  {
   "cell_type": "code",
   "execution_count": 12,
   "metadata": {},
   "outputs": [],
   "source": [
    "def distribute_compettitors(df):\n",
    "    resultList =[]\n",
    "\n",
    "    while df.shape[0] > 1:\n",
    "        name1=df.iloc[0].Name\n",
    "        dojo1=df.iloc[0].Dojo\n",
    "        name2=''\n",
    "        dojo2=''\n",
    "        for i in range(1,len(df)):\n",
    "            if(df.iloc[i].Dojo!=dojo1):\n",
    "                #print(i,\"Different Dojo\")\n",
    "                name2=df.iloc[i].Name\n",
    "                dojo2=df.iloc[i].Dojo\n",
    "                break\n",
    "            else:\n",
    "                #print(i,\"Same Dojo\")\n",
    "                b=0\n",
    "\n",
    "        if(name2==''):\n",
    "            name2=df.iloc[1].Name\n",
    "            dojo2=df.iloc[1].Dojo\n",
    "\n",
    "        print(name1, dojo1,'|', name2, dojo2)\n",
    "        resultList.append([df.iloc[0].Name,df.iloc[0].BMI,df.iloc[0].Dojo])\n",
    "        resultList.append([df.iloc[i].Name,df.iloc[i].BMI,df.iloc[i].Dojo])\n",
    "\n",
    "        # remove the two names from the data frame\n",
    "        df1=df[df.Name != name1]\n",
    "        df=df1[df1.Name != name2]\n",
    "\n",
    "    # if there is an odd number process the last one now0\n",
    "    if((df.shape[0] % 2)!=0):\n",
    "        name1=df.iloc[0].Name\n",
    "        dojo1=df.iloc[0].Dojo\n",
    "        print(name1, dojo1)\n",
    "        resultList.append([df.iloc[0].Name,df.iloc[0].BMI,df.iloc[0].Dojo])\n",
    "\n",
    "    #print(resultList)\n",
    "    result_df=pd.DataFrame(resultList, columns=['Name','BMI','Dojo'])\n",
    "    #print(result_df)\n",
    "    return result_df"
   ]
  },
  {
   "cell_type": "code",
   "execution_count": 13,
   "metadata": {},
   "outputs": [
    {
     "name": "stdout",
     "output_type": "stream",
     "text": [
      "tom spades | jack diamonds\n",
      "dick spades | aaron clubs\n",
      "harry spades\n",
      "----\n",
      "    Name  BMI      Dojo\n",
      "0    tom  100    spades\n",
      "1   jack  130  diamonds\n",
      "2   dick  110    spades\n",
      "3  aaron  140     clubs\n",
      "4  harry  120    spades\n"
     ]
    }
   ],
   "source": [
    "result=distribute_compettitors(df)\n",
    "print('----')\n",
    "print(result)"
   ]
  },
  {
   "cell_type": "code",
   "execution_count": null,
   "metadata": {},
   "outputs": [],
   "source": []
  }
 ],
 "metadata": {
  "kernelspec": {
   "display_name": "Python 3",
   "language": "python",
   "name": "python3"
  },
  "language_info": {
   "codemirror_mode": {
    "name": "ipython",
    "version": 3
   },
   "file_extension": ".py",
   "mimetype": "text/x-python",
   "name": "python",
   "nbconvert_exporter": "python",
   "pygments_lexer": "ipython3",
   "version": "3.6.7"
  }
 },
 "nbformat": 4,
 "nbformat_minor": 2
}
